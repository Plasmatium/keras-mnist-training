{
 "cells": [
  {
   "cell_type": "code",
   "execution_count": 273,
   "metadata": {},
   "outputs": [],
   "source": [
    "from keras import Sequential\n",
    "from keras.layers import Conv2D, Dense, Dropout, BatchNormalization, MaxPool2D, Flatten, Activation\n",
    "from keras.optimizers import Adam\n",
    "from keras.preprocessing.image import ImageDataGenerator\n",
    "\n",
    "import numpy as np\n",
    "import matplotlib.pyplot as plt"
   ]
  },
  {
   "cell_type": "code",
   "execution_count": 5,
   "metadata": {},
   "outputs": [],
   "source": [
    "dataset = {}\n",
    "files = ['test-img.data', 'test-label.data', 'train-img.data', 'train-label.data']\n",
    "for file in files:\n",
    "    with open('../mnist-dataset/'+file, 'rb') as f:\n",
    "        data = f.read()\n",
    "        dataset[file[:-5]] = data"
   ]
  },
  {
   "cell_type": "code",
   "execution_count": 180,
   "metadata": {},
   "outputs": [],
   "source": [
    "# 整理数据\n",
    "\n",
    "def convert_to_one_hot(y, C):\n",
    "    return np.eye(C, dtype=np.uint8)[y.reshape(-1)]\n",
    "\n",
    "testImg = np.fromiter(dataset['test-img'][16:], np.float)\n",
    "X_test = testImg.reshape([-1, 28, 28, 1])/255.0 - 0.5\n",
    "\n",
    "trainImg = np.fromiter(dataset['train-img'][16:], np.float)\n",
    "trainImg = trainImg.reshape([-1, 28, 28, 1])/255.0 - 0.5\n",
    "\n",
    "testLabel = np.fromiter(dataset['test-label'][8:], np.uint8)\n",
    "Y_test = convert_to_one_hot(testLabel, 10)\n",
    "\n",
    "trainLabel = np.fromiter(dataset['train-label'][8:], np.uint8)\n",
    "trainLabel = convert_to_one_hot(trainLabel, 10)\n",
    "\n",
    "validRatio = 0.1\n",
    "validLen = int(validRatio * len(trainImg))\n",
    "X_valid, X_train = trainImg[:validLen], trainImg[validLen:]\n",
    "Y_valid, Y_train = trainLabel[:validLen], trainLabel[validLen:]"
   ]
  },
  {
   "cell_type": "code",
   "execution_count": 358,
   "metadata": {},
   "outputs": [
    {
     "name": "stdout",
     "output_type": "stream",
     "text": [
      "_________________________________________________________________\n",
      "Layer (type)                 Output Shape              Param #   \n",
      "=================================================================\n",
      "conv2d_152 (Conv2D)          (None, 26, 26, 8)         80        \n",
      "_________________________________________________________________\n",
      "activation_118 (Activation)  (None, 26, 26, 8)         0         \n",
      "_________________________________________________________________\n",
      "conv2d_153 (Conv2D)          (None, 12, 12, 16)        1168      \n",
      "_________________________________________________________________\n",
      "activation_119 (Activation)  (None, 12, 12, 16)        0         \n",
      "_________________________________________________________________\n",
      "max_pooling2d_123 (MaxPoolin (None, 6, 6, 16)          0         \n",
      "_________________________________________________________________\n",
      "batch_normalization_132 (Bat (None, 6, 6, 16)          64        \n",
      "_________________________________________________________________\n",
      "conv2d_154 (Conv2D)          (None, 4, 4, 32)          4640      \n",
      "_________________________________________________________________\n",
      "activation_120 (Activation)  (None, 4, 4, 32)          0         \n",
      "_________________________________________________________________\n",
      "conv2d_155 (Conv2D)          (None, 2, 2, 64)          18496     \n",
      "_________________________________________________________________\n",
      "activation_121 (Activation)  (None, 2, 2, 64)          0         \n",
      "_________________________________________________________________\n",
      "max_pooling2d_124 (MaxPoolin (None, 1, 1, 64)          0         \n",
      "_________________________________________________________________\n",
      "batch_normalization_133 (Bat (None, 1, 1, 64)          256       \n",
      "_________________________________________________________________\n",
      "flatten_52 (Flatten)         (None, 64)                0         \n",
      "_________________________________________________________________\n",
      "dense_106 (Dense)            (None, 16)                1040      \n",
      "_________________________________________________________________\n",
      "activation_122 (Activation)  (None, 16)                0         \n",
      "_________________________________________________________________\n",
      "batch_normalization_134 (Bat (None, 16)                64        \n",
      "_________________________________________________________________\n",
      "dense_107 (Dense)            (None, 10)                170       \n",
      "=================================================================\n",
      "Total params: 25,978\n",
      "Trainable params: 25,786\n",
      "Non-trainable params: 192\n",
      "_________________________________________________________________\n"
     ]
    }
   ],
   "source": [
    "# 构建卷积网络\n",
    "\n",
    "model = Sequential()\n",
    "model.add(Conv2D(8, kernel_size=(3,3), batch_input_shape=(None, 28, 28, 1)))\n",
    "model.add(Activation('relu'))\n",
    "\n",
    "model.add(Conv2D(16, kernel_size=(3,3), strides=2))\n",
    "model.add(Activation('relu'))\n",
    "model.add(MaxPool2D())\n",
    "model.add(BatchNormalization())\n",
    "\n",
    "\n",
    "model.add(Conv2D(32, kernel_size=(3,3)))\n",
    "model.add(Activation('relu'))\n",
    "\n",
    "model.add(Conv2D(64, kernel_size=(3,3)))\n",
    "model.add(Activation('relu'))\n",
    "model.add(MaxPool2D())\n",
    "model.add(BatchNormalization())\n",
    "\n",
    "\n",
    "model.add(Flatten())\n",
    "model.add(Dense(16))\n",
    "model.add(Activation('relu'))\n",
    "model.add(BatchNormalization())\n",
    "model.add(Dense(10, activation='softmax'))\n",
    "\n",
    "model.compile(loss='categorical_crossentropy', optimizer=Adam(lr=0.00001))\n",
    "model.summary()"
   ]
  },
  {
   "cell_type": "code",
   "execution_count": 335,
   "metadata": {},
   "outputs": [],
   "source": [
    "datagen = ImageDataGenerator(rotation_range=15, width_shift_range=0.15, height_shift_range=0.15, zoom_range=0.15)\n",
    "datagen.fit(X_train)"
   ]
  },
  {
   "cell_type": "code",
   "execution_count": 369,
   "metadata": {
    "scrolled": false
   },
   "outputs": [
    {
     "name": "stdout",
     "output_type": "stream",
     "text": [
      "Train on 54000 samples, validate on 6000 samples\n",
      "Epoch 1/10\n",
      "54000/54000 [==============================] - 10s 185us/step - loss: 0.0137 - val_loss: 0.0486\n",
      "Epoch 2/10\n",
      "54000/54000 [==============================] - 10s 185us/step - loss: 0.0134 - val_loss: 0.0484\n",
      "Epoch 3/10\n",
      "54000/54000 [==============================] - 10s 184us/step - loss: 0.0135 - val_loss: 0.0484\n",
      "Epoch 4/10\n",
      "54000/54000 [==============================] - 10s 185us/step - loss: 0.0132 - val_loss: 0.0484\n",
      "Epoch 5/10\n",
      "54000/54000 [==============================] - 10s 185us/step - loss: 0.0131 - val_loss: 0.0483\n",
      "Epoch 6/10\n",
      "54000/54000 [==============================] - 10s 185us/step - loss: 0.0129 - val_loss: 0.0481\n",
      "Epoch 7/10\n",
      "54000/54000 [==============================] - 10s 185us/step - loss: 0.0127 - val_loss: 0.0483\n",
      "Epoch 8/10\n",
      "54000/54000 [==============================] - 10s 184us/step - loss: 0.0123 - val_loss: 0.0481\n",
      "Epoch 9/10\n",
      "54000/54000 [==============================] - 10s 184us/step - loss: 0.0124 - val_loss: 0.0482\n",
      "Epoch 10/10\n",
      "54000/54000 [==============================] - 10s 185us/step - loss: 0.0122 - val_loss: 0.0482\n"
     ]
    },
    {
     "data": {
      "text/plain": [
       "<keras.callbacks.History at 0x160369c88>"
      ]
     },
     "execution_count": 369,
     "metadata": {},
     "output_type": "execute_result"
    }
   ],
   "source": [
    "model.fit(X_train, Y_train,\n",
    "          batch_size=256, epochs=10, verbose=1,\n",
    "          validation_data=(X_valid, Y_valid), shuffle=True)\n",
    "# model.fit_generator(datagen.flow(X_train, Y_train, batch_size=256),\n",
    "#                     steps_per_epoch=len(X_train)/10, epochs=5, validation_data=(X_valid, Y_valid))"
   ]
  },
  {
   "cell_type": "code",
   "execution_count": 370,
   "metadata": {},
   "outputs": [
    {
     "name": "stdout",
     "output_type": "stream",
     "text": [
      "10000/10000 [==============================] - 1s 138us/step\n"
     ]
    },
    {
     "data": {
      "text/plain": [
       "0.9873"
      ]
     },
     "execution_count": 370,
     "metadata": {},
     "output_type": "execute_result"
    }
   ],
   "source": [
    "p = model.predict(X_test, verbose=1)\n",
    "accu = np.argmax(p, axis=1) == np.argmax(Y_test, axis=1)\n",
    "sum(accu) / len(accu)"
   ]
  },
  {
   "cell_type": "code",
   "execution_count": 295,
   "metadata": {},
   "outputs": [
    {
     "data": {
      "text/plain": [
       "<matplotlib.image.AxesImage at 0x128a96eb8>"
      ]
     },
     "execution_count": 295,
     "metadata": {},
     "output_type": "execute_result"
    },
    {
     "data": {
      "image/png": "[encoded data removed]",
      "text/plain": [
       "<Figure size 432x288 with 1 Axes>"
      ]
     },
     "metadata": {},
     "output_type": "display_data"
    }
   ],
   "source": [
    "plt.imshow(X_test[18].reshape(28, 28), cmap='binary')"
   ]
  },
  {
   "cell_type": "code",
   "execution_count": 372,
   "metadata": {},
   "outputs": [
    {
     "data": {
      "text/plain": [
       "18"
      ]
     },
     "execution_count": 372,
     "metadata": {},
     "output_type": "execute_result"
    }
   ],
   "source": [
    "np.argmin(accu)"
   ]
  },
  {
   "cell_type": "code",
   "execution_count": 373,
   "metadata": {},
   "outputs": [
    {
     "name": "stdout",
     "output_type": "stream",
     "text": [
      "8\n",
      "3\n"
     ]
    }
   ],
   "source": [
    "print(np.argmax(p[18]))\n",
    "print(np.argmax(Y_test[18]))"
   ]
  },
  {
   "cell_type": "code",
   "execution_count": 374,
   "metadata": {},
   "outputs": [],
   "source": [
    "model.save('conv-mnist.hdf5')"
   ]
  }
 ],
 "metadata": {
  "kernelspec": {
   "display_name": "Python 3",
   "language": "python",
   "name": "python3"
  },
  "language_info": {
   "codemirror_mode": {
    "name": "ipython",
    "version": 3
   },
   "file_extension": ".py",
   "mimetype": "text/x-python",
   "name": "python",
   "nbconvert_exporter": "python",
   "pygments_lexer": "ipython3",
   "version": "3.6.4"
  }
 },
 "nbformat": 4,
 "nbformat_minor": 2
}
